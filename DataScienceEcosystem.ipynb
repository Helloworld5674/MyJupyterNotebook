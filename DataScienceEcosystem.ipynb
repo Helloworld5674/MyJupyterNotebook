{
 "cells": [
  {
   "cell_type": "markdown",
   "id": "7b2877b6-d9e3-455a-ae39-9c106d1cdb26",
   "metadata": {},
   "source": [
    "# Data Science Tools and Ecosystem"
   ]
  },
  {
   "cell_type": "markdown",
   "id": "992f6f47-114f-4656-8a5e-8abafc73b51f",
   "metadata": {},
   "source": [
    "## In this notebook, Data Science Tools and Ecosystem are summarized."
   ]
  },
  {
   "cell_type": "markdown",
   "id": "4b0ef3eb-d45e-42b3-8bdc-dbc8ea783703",
   "metadata": {},
   "source": [
    "**Objectives:**\n",
    "+ List popular languages for Data Science.\n",
    "+ List of commonly used libraries used by Data scientist.\n",
    "+ Anaconda Jupyter Environments\n",
    "+ Hands on lab on Jupyter notebooks\n",
    "+ Plotting in Rstudio"
   ]
  },
  {
   "cell_type": "markdown",
   "id": "c3b1c57f-2ef4-4830-8f93-d7f59fdc3ed2",
   "metadata": {},
   "source": [
    "### Some of the popular languages that Data Scientists use are:\n",
    "1. Python\n",
    "2. R\n",
    "3. SQL"
   ]
  },
  {
   "cell_type": "markdown",
   "id": "a3013f1e-a5cd-4690-8cb0-2097b29f9e07",
   "metadata": {},
   "source": [
    "### Some of the commonly used libraries used by Data Scientists include:\n",
    "1. Pandas\n",
    "2. Keras\n",
    "3. Numpy"
   ]
  },
  {
   "cell_type": "markdown",
   "id": "16059e74-2cf0-4d3e-9661-e5ba362c3571",
   "metadata": {},
   "source": [
    "|open source tools used in data science.|\n",
    "|----------------------------------------|\n",
    "|MySQl|\n",
    "|Kubeflow|\n",
    "|Kibana|"
   ]
  },
  {
   "cell_type": "markdown",
   "id": "a93019b4-0780-4013-bf51-277dbb0ce471",
   "metadata": {},
   "source": [
    "### Below are a few examples of evaluating arithmetic expressions in Python"
   ]
  },
  {
   "cell_type": "code",
   "execution_count": 14,
   "id": "e32cda9f-45ab-4791-a768-7361aa5ede66",
   "metadata": {},
   "outputs": [
    {
     "data": {
      "text/plain": [
       "17"
      ]
     },
     "execution_count": 14,
     "metadata": {},
     "output_type": "execute_result"
    }
   ],
   "source": [
    "# This a simple arithmetic expression to mutiply then add integers\n",
    "(3*4)+5"
   ]
  },
  {
   "cell_type": "code",
   "execution_count": 16,
   "id": "74339f95-93b2-4f96-b09e-88e394616025",
   "metadata": {},
   "outputs": [
    {
     "data": {
      "text/plain": [
       "3.3333333333333335"
      ]
     },
     "execution_count": 16,
     "metadata": {},
     "output_type": "execute_result"
    }
   ],
   "source": [
    "# This will convert 200 minutes to hours by diving by 60\n",
    "(200/60)"
   ]
  },
  {
   "cell_type": "markdown",
   "id": "b1b78953-d968-425b-a556-a4e0ee75bee9",
   "metadata": {},
   "source": [
    "## Author\n",
    "Lakshmi Holla\n",
    "\n",
    "Niveditha Pandith"
   ]
  },
  {
   "cell_type": "code",
   "execution_count": null,
   "id": "8463fc36-d154-4748-bf5b-8b03c132ba75",
   "metadata": {},
   "outputs": [],
   "source": []
  }
 ],
 "metadata": {
  "kernelspec": {
   "display_name": "Python 3 (ipykernel)",
   "language": "python",
   "name": "python3"
  },
  "language_info": {
   "codemirror_mode": {
    "name": "ipython",
    "version": 3
   },
   "file_extension": ".py",
   "mimetype": "text/x-python",
   "name": "python",
   "nbconvert_exporter": "python",
   "pygments_lexer": "ipython3",
   "version": "3.12.4"
  }
 },
 "nbformat": 4,
 "nbformat_minor": 5
}
